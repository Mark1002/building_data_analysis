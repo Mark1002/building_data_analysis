{
 "cells": [
  {
   "cell_type": "code",
   "execution_count": 80,
   "metadata": {},
   "outputs": [],
   "source": [
    "import os\n",
    "import numpy as np\n",
    "import pandas as pd"
   ]
  },
  {
   "cell_type": "code",
   "execution_count": 9,
   "metadata": {},
   "outputs": [],
   "source": [
    "file_path = 'open_data'"
   ]
  },
  {
   "cell_type": "code",
   "execution_count": 54,
   "metadata": {},
   "outputs": [],
   "source": [
    "# load data to dataframe\n",
    "df_b, df_e, df_f, df_h = tuple([\n",
    "    pd.read_csv(f\"{file_path}/{file_name}\", skiprows=[1]) for file_name in os.listdir(file_path)\n",
    "])"
   ]
  },
  {
   "cell_type": "code",
   "execution_count": 55,
   "metadata": {},
   "outputs": [
    {
     "name": "stdout",
     "output_type": "stream",
     "text": [
      "(1320, 28), (1129, 28), (1311, 28), (876, 28)\n"
     ]
    }
   ],
   "source": [
    "print(f\"{df_b.shape}, {df_e.shape}, {df_f.shape}, {df_h.shape}\")"
   ]
  },
  {
   "cell_type": "code",
   "execution_count": 69,
   "metadata": {},
   "outputs": [
    {
     "name": "stdout",
     "output_type": "stream",
     "text": [
      "(4636, 28)\n"
     ]
    }
   ],
   "source": [
    "# merge df\n",
    "df_all = pd.concat([df_b, df_e, df_f, df_h], ignore_index=True, axis=0)\n",
    "print(df_all.shape)"
   ]
  },
  {
   "cell_type": "code",
   "execution_count": 74,
   "metadata": {},
   "outputs": [
    {
     "data": {
      "text/plain": [
       "Index(['鄉鎮市區', '交易標的', '土地區段位置建物區段門牌', '土地移轉總面積平方公尺', '都市土地使用分區', '非都市土地使用分區',\n",
       "       '非都市土地使用編定', '交易年月日', '交易筆棟數', '移轉層次', '總樓層數', '建物型態', '主要用途', '主要建材',\n",
       "       '建築完成年月', '建物移轉總面積平方公尺', '建物現況格局-房', '建物現況格局-廳', '建物現況格局-衛',\n",
       "       '建物現況格局-隔間', '有無管理組織', '總價元', '單價元平方公尺', '車位類別', '車位移轉總面積平方公尺', '車位總價元',\n",
       "       '備註', '編號'],\n",
       "      dtype='object')"
      ]
     },
     "execution_count": 74,
     "metadata": {},
     "output_type": "execute_result"
    }
   ],
   "source": [
    "df_all.columns"
   ]
  },
  {
   "cell_type": "code",
   "execution_count": 226,
   "metadata": {},
   "outputs": [
    {
     "data": {
      "text/plain": [
       "array(['四層', '十九層', '七層', '十三層', '十二層', nan, '二層', '十五層', '十一層', '一層',\n",
       "       '二十三層', '三層', '五層', '十四層', '六層', '二十五層', '八層', '十六層', '十層', '二十四層',\n",
       "       '二十二層', '二十一層', '九層', '二十層', '二十八層', '三十二層', '十七層', '二十六層', '二十九層',\n",
       "       '二十七層', '三十五層', '十八層', '三十九層', '八十五層', '三十六層', '四十三層', '三十一層',\n",
       "       '四十一層', '三十七層', '三十四層', '四十層'], dtype=object)"
      ]
     },
     "execution_count": 226,
     "metadata": {},
     "output_type": "execute_result"
    }
   ],
   "source": [
    "# check unique field value\n",
    "df_all.loc[:,'總樓層數'].unique()"
   ]
  },
  {
   "cell_type": "code",
   "execution_count": 222,
   "metadata": {},
   "outputs": [],
   "source": [
    "def convert_building_num(building_count: str):\n",
    "    \"\"\"Convert chinese building floor to number.\"\"\"\n",
    "\n",
    "    ch_num_mapping = {\n",
    "        \"\": 0, \"一\": 1, \"二\": 2, \"三\": 3,\n",
    "        \"四\": 4, \"五\": 5, \"六\": 6, \"七\": 7,\n",
    "        \"八\": 8, \"九\": 9, \"十\": 10,\n",
    "    }\n",
    "    \n",
    "    if building_count is not np.nan:\n",
    "        building_count = list(building_count.replace('層', ''))\n",
    "        if len(building_count) == 1:\n",
    "            building_count.insert(0, \"\")\n",
    "            building_count.insert(0, \"\")\n",
    "        elif (len(building_count) == 2) and (building_count[0] == '十'):\n",
    "            building_count.insert(0, \"一\")    \n",
    "        elif (len(building_count) == 2) and (building_count[0] != '十'):\n",
    "            building_count.insert(2, \"\")\n",
    "        building_count = [ch_num_mapping[count] for count in building_count]\n",
    "        building_count = building_count[0] * building_count[1] + building_count[2]\n",
    "    return building_count"
   ]
  },
  {
   "cell_type": "code",
   "execution_count": 224,
   "metadata": {},
   "outputs": [],
   "source": [
    "df_all['building_floor_num'] = df_all['總樓層數'].map(convert_building_num)"
   ]
  },
  {
   "cell_type": "code",
   "execution_count": 230,
   "metadata": {},
   "outputs": [
    {
     "data": {
      "text/plain": [
       "array([ 4., 19.,  7., 13., 12., nan,  2., 15., 11.,  1., 23.,  3.,  5.,\n",
       "       14.,  6., 25.,  8., 16., 10., 24., 22., 21.,  9., 20., 28., 32.,\n",
       "       17., 26., 29., 27., 35., 18., 39., 85., 36., 43., 31., 41., 37.,\n",
       "       34., 40.])"
      ]
     },
     "execution_count": 230,
     "metadata": {},
     "output_type": "execute_result"
    }
   ],
   "source": [
    "df_all['building_floor_num'].unique()"
   ]
  },
  {
   "cell_type": "code",
   "execution_count": 257,
   "metadata": {},
   "outputs": [
    {
     "name": "stdout",
     "output_type": "stream",
     "text": [
      "(719, 28)\n"
     ]
    }
   ],
   "source": [
    "# filter_a.csv\n",
    "filter_df_a = df_all.loc[df_all['building_floor_num']>=13,:]\n",
    "filter_df_a = filter_df_a.loc[filter_df_a['主要用途']=='住家用',:]\n",
    "filter_df_a = filter_df_a[filter_df_a['建物型態'].str.contains(\"住宅大樓\")]\n",
    "del filter_df_a['building_floor_num']\n",
    "print(filter_df_a.shape)"
   ]
  },
  {
   "cell_type": "code",
   "execution_count": 261,
   "metadata": {},
   "outputs": [],
   "source": [
    "filter_df_a.to_csv(\"filter_a.csv\", index=False)"
   ]
  },
  {
   "cell_type": "code",
   "execution_count": 301,
   "metadata": {},
   "outputs": [
    {
     "data": {
      "text/plain": [
       "0    土地2建物1車位0\n",
       "1    土地2建物1車位0\n",
       "2    土地1建物1車位0\n",
       "3    土地2建物1車位0\n",
       "4    土地1建物1車位1\n",
       "Name: 交易筆棟數, dtype: object"
      ]
     },
     "execution_count": 301,
     "metadata": {},
     "output_type": "execute_result"
    }
   ],
   "source": [
    "df_all['交易筆棟數'].head()"
   ]
  },
  {
   "cell_type": "code",
   "execution_count": 308,
   "metadata": {},
   "outputs": [],
   "source": [
    "# filter_b.csv\n",
    "total_case_num = df_all.shape[0]\n",
    "car_avg_price = int(df_all['車位總價元'].mean())\n",
    "total_avg_price = int(df_all['總價元'].mean())\n",
    "total_car_place = sum([int(transaction[-1]) for transaction in df_all['交易筆棟數'].values])"
   ]
  },
  {
   "cell_type": "code",
   "execution_count": 313,
   "metadata": {},
   "outputs": [],
   "source": [
    "filter_df_b = pd.DataFrame({\n",
    "    \"總件數\": [total_case_num],\n",
    "    \"總車位數\": [total_car_place],\n",
    "    \"平均總價元\": [total_avg_price],\n",
    "    \"平均車位總價元\": [car_avg_price]\n",
    "})"
   ]
  },
  {
   "cell_type": "code",
   "execution_count": 314,
   "metadata": {},
   "outputs": [
    {
     "data": {
      "text/html": [
       "<div>\n",
       "<style scoped>\n",
       "    .dataframe tbody tr th:only-of-type {\n",
       "        vertical-align: middle;\n",
       "    }\n",
       "\n",
       "    .dataframe tbody tr th {\n",
       "        vertical-align: top;\n",
       "    }\n",
       "\n",
       "    .dataframe thead th {\n",
       "        text-align: right;\n",
       "    }\n",
       "</style>\n",
       "<table border=\"1\" class=\"dataframe\">\n",
       "  <thead>\n",
       "    <tr style=\"text-align: right;\">\n",
       "      <th></th>\n",
       "      <th>總件數</th>\n",
       "      <th>總車位數</th>\n",
       "      <th>平均總價元</th>\n",
       "      <th>平均車位總價元</th>\n",
       "    </tr>\n",
       "  </thead>\n",
       "  <tbody>\n",
       "    <tr>\n",
       "      <th>0</th>\n",
       "      <td>4636</td>\n",
       "      <td>2247</td>\n",
       "      <td>12911140</td>\n",
       "      <td>396909</td>\n",
       "    </tr>\n",
       "  </tbody>\n",
       "</table>\n",
       "</div>"
      ],
      "text/plain": [
       "    總件數  總車位數     平均總價元  平均車位總價元\n",
       "0  4636  2247  12911140   396909"
      ]
     },
     "execution_count": 314,
     "metadata": {},
     "output_type": "execute_result"
    }
   ],
   "source": [
    "filter_df_b"
   ]
  },
  {
   "cell_type": "code",
   "execution_count": 315,
   "metadata": {},
   "outputs": [],
   "source": [
    "filter_df_b.to_csv(\"filter_b.csv\", index=False)"
   ]
  }
 ],
 "metadata": {
  "kernelspec": {
   "display_name": "Python 3",
   "language": "python",
   "name": "python3"
  },
  "language_info": {
   "codemirror_mode": {
    "name": "ipython",
    "version": 3
   },
   "file_extension": ".py",
   "mimetype": "text/x-python",
   "name": "python",
   "nbconvert_exporter": "python",
   "pygments_lexer": "ipython3",
   "version": "3.6.6"
  }
 },
 "nbformat": 4,
 "nbformat_minor": 2
}
